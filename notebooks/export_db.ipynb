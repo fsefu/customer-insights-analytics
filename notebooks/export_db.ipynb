{
 "cells": [
  {
   "cell_type": "code",
   "execution_count": null,
   "id": "5f05821f-e332-487e-87aa-de094825cb96",
   "metadata": {},
   "outputs": [],
   "source": [
    "import pandas as pd\n",
    "import sys\n",
    "import os\n",
    "sys.path.append(os.path.abspath(os.path.join(os.getcwd(), '../src')))\n",
    "sys.path.append(os.path.abspath(os.path.join(os.getcwd(), '../utils')))\n",
    "sys.path.append(os.path.abspath(os.path.join(os.getcwd(), '../scripts')))\n",
    "sys.path.append(os.path.abspath(os.path.join(os.getcwd(), '../databases')))\n",
    "from connections.database_connector import DatabaseConnection\n",
    "from data_loader.teleco_data_loader import TelecoDataLoader\n",
    "from cleaning.data_cleaning import DataCleaner\n",
    "from engagement_analysis.telecom_engagement_analysis import TelecomEngagementAnalysis\n",
    "from satisfaction_analysis.engagement_experience_scores import EngagementExperienceScores\n",
    "from satisfaction_analysis.top_satifactions_analysis import TopSatisfactionAnalysis\n",
    "\n",
    "from satisfaction_analysis.satisfaction_kmeans import SatisfactionKMeans\n",
    "from experience_analytics.experience_clustering import ExperienceClustering\n",
    "\n",
    "\n",
    "from export_to_db import DbExporter\n"
   ]
  },
  {
   "cell_type": "code",
   "execution_count": null,
   "id": "2af5c8c4-086f-49f8-b64f-12ce3de29200",
   "metadata": {},
   "outputs": [],
   "source": [
    "#  Initialize and connect to the database\n",
    "db_connection = DatabaseConnection(\n",
    "    db_name=os.getenv('DB_NAME'),\n",
    "    user=os.getenv('DB_USER'),\n",
    "    password=os.getenv('DB_PASSWORD'),\n",
    "    host=os.getenv('DB_HOST'),\n",
    "    port=os.getenv('DB_PORT')\n",
    ")\n",
    "db_connection.connect()"
   ]
  },
  {
   "cell_type": "code",
   "execution_count": null,
   "id": "8513070b-b77e-41c1-8645-d72f3aa7df65",
   "metadata": {},
   "outputs": [],
   "source": [
    "# Initialize the TelecoDataLoader object with the database connection\n",
    "data_loader = TelecoDataLoader(db_connection=db_connection)\n",
    "\n",
    "# Load the data into a pandas DataFrame\n",
    "df = data_loader.load_data(\"xdr_data\")\n",
    "# df = pd.DataFrame(data)\n",
    "\n",
    "print(type(df))\n",
    "df.head()\n",
    "# print(df.head())\n",
    "\n",
    "# df.info()\n",
    "# Close the database connection when done\n",
    "db_connection.close()"
   ]
  },
  {
   "cell_type": "code",
   "execution_count": null,
   "id": "cf401f20-72b5-43b7-9909-420573fd9932",
   "metadata": {},
   "outputs": [],
   "source": [
    "# Initialize the DataCleaner object with the DataFrame\n",
    "data_cleaner = DataCleaner(df)\n",
    "\n",
    "# Clean the data\n",
    "data_cleaner.clean_data()  # No need to assign, as it modifies df in place\n",
    "\n",
    "#change kbs and bytes to mb\n",
    "data_cleaner.convert_units_to_mb()\n",
    "\n",
    "# Handle missing values and outliers\n",
    "data_cleaner.handle_missing_and_outliers()\n",
    "\n",
    "# Access the cleaned DataFrame\n",
    "cleaned_df = data_cleaner.df\n"
   ]
  },
  {
   "cell_type": "code",
   "execution_count": null,
   "id": "ac295808-b30e-4fed-a99b-70d340db49a4",
   "metadata": {},
   "outputs": [],
   "source": [
    "# Instantiate the TelecomEngagementAnalysis class\n",
    "engagement_analysis = TelecomEngagementAnalysis(data=cleaned_df)\n",
    "\n",
    "# Aggregate metrics by customer\n",
    "engagement_data = engagement_analysis.aggregate_metrics_by_customer()\n",
    "\n",
    "# Normalize metrics\n",
    "normalized_data = engagement_analysis.normalize_metrics()\n",
    "\n",
    "# Perform K-Means clustering\n",
    "engagement_data_with_clusters = engagement_analysis.k_means_clustering(n_clusters=3)"
   ]
  },
  {
   "cell_type": "code",
   "execution_count": null,
   "id": "3a359dbc-d2db-47e7-9d84-9bc4beb45d57",
   "metadata": {},
   "outputs": [],
   "source": [
    "# Instantiate the ExperienceClustering class\n",
    "experience_clustering = ExperienceClustering(df=cleaned_df)\n",
    "\n",
    "# Run the entire clustering process\n",
    "experience_clustering.run()\n",
    "\n",
    "# Retrieve clustered data\n",
    "experience_data = experience_clustering.df[['MSISDN/Number', 'Cluster']]"
   ]
  },
  {
   "cell_type": "code",
   "execution_count": null,
   "id": "70211de7-412b-449d-bfc2-336fdd0812f4",
   "metadata": {},
   "outputs": [],
   "source": [
    "# Merge engagement and experience data\n",
    "user_df = pd.merge(engagement_data_with_clusters, experience_data, on='MSISDN/Number', how='inner')\n",
    "\n",
    "# Rename 'Cluster' from experience_data to 'experience_cluster'\n",
    "user_df.rename(columns={'Cluster': 'experience_cluster'}, inplace=True)\n",
    "\n",
    "# Instantiate the EngagementExperienceScores class\n",
    "engagement_clusters = engagement_analysis.kmeans  # Assuming `kmeans` is the clustering model\n",
    "experience_clusters = experience_clustering.kmeans  # Assuming `kmeans` is the clustering model\n",
    "\n",
    "satisfaction_analysis = EngagementExperienceScores(\n",
    "    user_data=user_df,\n",
    "    engagement_clusters=engagement_clusters,\n",
    "    experience_clusters=experience_clusters\n",
    ")\n",
    "\n",
    "# Assign scores to users\n",
    "user_scores_df = satisfaction_analysis.assign_scores_to_users()\n",
    "\n",
    "# Display results"
   ]
  },
  {
   "cell_type": "code",
   "execution_count": null,
   "id": "d12cc3d9-67d9-41c8-855d-983024027650",
   "metadata": {},
   "outputs": [],
   "source": [
    "satisfaction_analysis = TopSatisfactionAnalysis(\n",
    "    user_data=user_df,\n",
    "    engagement_clusters=engagement_clusters,\n",
    "    experience_clusters=experience_clusters\n",
    ")\n",
    "\n",
    "satisfied_customers = satisfaction_analysis.satisfied_customers()\n",
    "satisfied_customers.head()"
   ]
  },
  {
   "cell_type": "code",
   "execution_count": null,
   "id": "55426a47-3a23-4696-8de7-dbbd086fac6e",
   "metadata": {},
   "outputs": [],
   "source": [
    "# Instantiate the SatisfactionKMeans class\n",
    "kmeans_analysis = SatisfactionKMeans(data=user_scores_df)\n",
    "\n",
    "# Preprocess data and run K-means\n",
    "kmeans_analysis.preprocess_data()\n",
    "clustered_data = kmeans_analysis.run_kmeans(k=2)\n",
    "\n",
    "# Visualize the clusters\n",
    "kmeans_analysis.visualize_clusters()\n",
    "\n",
    "# Display the resulting DataFrame with cluster labels\n",
    "print(clustered_data.head())"
   ]
  },
  {
   "cell_type": "code",
   "execution_count": null,
   "id": "22198cf8-e2c7-49fe-8e68-8dd6108769f7",
   "metadata": {},
   "outputs": [],
   "source": [
    "selected_columns = clustered_data[['MSISDN/Number', 'engagement_score', 'experience_score']]\n",
    "print(selected_columns.head())\n"
   ]
  },
  {
   "cell_type": "code",
   "execution_count": null,
   "id": "c448046d-d4bd-4e5f-bef3-311f018325c3",
   "metadata": {},
   "outputs": [],
   "source": [
    "from data_export.data_to_export import DataToExport"
   ]
  },
  {
   "cell_type": "code",
   "execution_count": null,
   "id": "c3d37d57-6c09-424a-8e82-388a538dbdb6",
   "metadata": {},
   "outputs": [],
   "source": [
    "data_to_export = DataToExport(satisfied_customers, selected_columns)\n",
    "final_df = data_to_export.merge_data()\n",
    "print (final_df)"
   ]
  },
  {
   "cell_type": "code",
   "execution_count": null,
   "id": "4857a728-3231-4f15-a37e-6df67f9131ac",
   "metadata": {},
   "outputs": [],
   "source": [
    "\n",
    "# Initialize the PostgresExporter\n",
    "db_exporter = DbExporter()\n",
    "db_exporter.export_to_postgres(final_df)\n"
   ]
  },
  {
   "cell_type": "code",
   "execution_count": null,
   "id": "e73b6d22-7663-4b57-a6b3-bc77ea407c66",
   "metadata": {},
   "outputs": [],
   "source": []
  }
 ],
 "metadata": {
  "kernelspec": {
   "display_name": "Python (.venv)",
   "language": "python",
   "name": ".venv"
  },
  "language_info": {
   "codemirror_mode": {
    "name": "ipython",
    "version": 3
   },
   "file_extension": ".py",
   "mimetype": "text/x-python",
   "name": "python",
   "nbconvert_exporter": "python",
   "pygments_lexer": "ipython3",
   "version": "3.11.9"
  }
 },
 "nbformat": 4,
 "nbformat_minor": 5
}
