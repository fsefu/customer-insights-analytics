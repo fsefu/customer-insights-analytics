{
 "cells": [
  {
   "cell_type": "code",
   "execution_count": 13,
   "id": "51f68562-5da1-4975-9643-3a5ce47ba76e",
   "metadata": {},
   "outputs": [
    {
     "data": {
      "text/plain": [
       "True"
      ]
     },
     "execution_count": 13,
     "metadata": {},
     "output_type": "execute_result"
    }
   ],
   "source": [
    "import sys\n",
    "import os\n",
    "from dotenv import load_dotenv\n",
    "sys.path.append(os.path.abspath(os.path.join(os.getcwd(), '../src')))\n",
    "sys.path.append(os.path.abspath(os.path.join(os.getcwd(), '../databases')))\n",
    "from connections.database_connector import DatabaseConnection\n",
    "from data_loader.teleco_data_loader import TelecoDataLoader\n",
    "from cleaning.data_cleaning import DataCleaner\n",
    "from engagement_analysis.user_engagement_analysis import UserEngagementAnalysis\n",
    "from engagement_analysis.telecom_engagement_analysis import TelecomEngagementAnalysis\n",
    "from experience_analytics.aggregate_customer import AggregateCustomer\n",
    "from experience_analytics.network_parameter_analyzer import NetworkParameterAnalyzer\n",
    "load_dotenv()"
   ]
  },
  {
   "cell_type": "code",
   "execution_count": 14,
   "id": "b4a20fbd-dfb8-4e69-9635-ceebff539518",
   "metadata": {},
   "outputs": [
    {
     "name": "stdout",
     "output_type": "stream",
     "text": [
      "Connection to PostgreSQL DB successful\n"
     ]
    }
   ],
   "source": [
    "#  Initialize and connect to the database\n",
    "db_connection = DatabaseConnection(\n",
    "    db_name=os.getenv('DB_NAME'),\n",
    "    user=os.getenv('DB_USER'),\n",
    "    password=os.getenv('DB_PASSWORD'),\n",
    "    host=os.getenv('DB_HOST'),\n",
    "    port=os.getenv('DB_PORT')\n",
    ")\n",
    "db_connection.connect()"
   ]
  },
  {
   "cell_type": "code",
   "execution_count": 15,
   "id": "ad9720b4-71d9-4546-b65b-1c6d18c4173f",
   "metadata": {},
   "outputs": [
    {
     "name": "stderr",
     "output_type": "stream",
     "text": [
      "/mnt/d/tutorial/10x/tasks/task_2/customer-insights-analytics/src/data_loader/teleco_data_loader.py:10: UserWarning: pandas only supports SQLAlchemy connectable (engine/connection) or database string URI or sqlite3 DBAPI2 connection. Other DBAPI2 objects are not tested. Please consider using SQLAlchemy.\n",
      "  df = pd.read_sql_query(query, connection)\n"
     ]
    },
    {
     "name": "stdout",
     "output_type": "stream",
     "text": [
      "Connection closed.\n"
     ]
    }
   ],
   "source": [
    "# Initialize the TelecoDataLoader object with the database connection\n",
    "data_loader = TelecoDataLoader(db_connection=db_connection)\n",
    "\n",
    "# Load the data into a pandas DataFrame\n",
    "df = data_loader.load_data(\"xdr_data\")\n",
    "# df = pd.DataFrame(data)\n",
    "\n",
    "# print(df.head())\n",
    "\n",
    "# df.info()\n",
    "# Close the database connection when done\n",
    "db_connection.close()"
   ]
  },
  {
   "cell_type": "code",
   "execution_count": 16,
   "id": "de72f871-d1a9-48fb-b89d-04d75ee0dcba",
   "metadata": {},
   "outputs": [
    {
     "data": {
      "text/html": [
       "<div>\n",
       "<style scoped>\n",
       "    .dataframe tbody tr th:only-of-type {\n",
       "        vertical-align: middle;\n",
       "    }\n",
       "\n",
       "    .dataframe tbody tr th {\n",
       "        vertical-align: top;\n",
       "    }\n",
       "\n",
       "    .dataframe thead th {\n",
       "        text-align: right;\n",
       "    }\n",
       "</style>\n",
       "<table border=\"1\" class=\"dataframe\">\n",
       "  <thead>\n",
       "    <tr style=\"text-align: right;\">\n",
       "      <th></th>\n",
       "      <th>IMSI</th>\n",
       "      <th>Avg RTT DL (ms)</th>\n",
       "      <th>Avg RTT UL (ms)</th>\n",
       "      <th>TCP DL Retrans. Vol (Bytes)</th>\n",
       "      <th>TCP UL Retrans. Vol (Bytes)</th>\n",
       "      <th>Avg Bearer TP DL (kbps)</th>\n",
       "      <th>Avg Bearer TP UL (kbps)</th>\n",
       "      <th>Handset Manufacturer</th>\n",
       "      <th>Handset Type</th>\n",
       "    </tr>\n",
       "  </thead>\n",
       "  <tbody>\n",
       "    <tr>\n",
       "      <th>0</th>\n",
       "      <td>2.040471e+14</td>\n",
       "      <td>109.795706</td>\n",
       "      <td>17.662883</td>\n",
       "      <td>2.080991e+07</td>\n",
       "      <td>759658.664811</td>\n",
       "      <td>2.0</td>\n",
       "      <td>0.0</td>\n",
       "      <td>Quectel Wireless Solutions Co Ltd</td>\n",
       "      <td>Quectel Wireless. Quectel Ec21-E</td>\n",
       "    </tr>\n",
       "    <tr>\n",
       "      <th>1</th>\n",
       "      <td>2.040808e+14</td>\n",
       "      <td>109.795706</td>\n",
       "      <td>17.662883</td>\n",
       "      <td>2.080991e+07</td>\n",
       "      <td>759658.664811</td>\n",
       "      <td>1.0</td>\n",
       "      <td>0.0</td>\n",
       "      <td>Quectel Wireless Solutions Co Ltd</td>\n",
       "      <td>Quectel Wireless. Quectel Ec25-E</td>\n",
       "    </tr>\n",
       "    <tr>\n",
       "      <th>2</th>\n",
       "      <td>2.082001e+14</td>\n",
       "      <td>287.000000</td>\n",
       "      <td>16.000000</td>\n",
       "      <td>2.697000e+03</td>\n",
       "      <td>759658.664811</td>\n",
       "      <td>87.0</td>\n",
       "      <td>22.0</td>\n",
       "      <td>Dn Electronics</td>\n",
       "      <td>Dn Electronics Danew Konnect 350</td>\n",
       "    </tr>\n",
       "    <tr>\n",
       "      <th>3</th>\n",
       "      <td>2.082001e+14</td>\n",
       "      <td>82.000000</td>\n",
       "      <td>2.000000</td>\n",
       "      <td>9.107000e+03</td>\n",
       "      <td>18872.000000</td>\n",
       "      <td>627.0</td>\n",
       "      <td>127.0</td>\n",
       "      <td>Samsung</td>\n",
       "      <td>Samsung Galaxy Grand (Gt-I9060X)</td>\n",
       "    </tr>\n",
       "    <tr>\n",
       "      <th>4</th>\n",
       "      <td>2.082001e+14</td>\n",
       "      <td>87.000000</td>\n",
       "      <td>5.000000</td>\n",
       "      <td>2.080991e+07</td>\n",
       "      <td>759658.664811</td>\n",
       "      <td>38.0</td>\n",
       "      <td>42.5</td>\n",
       "      <td>Apple</td>\n",
       "      <td>Apple iPhone 6S (A1688)</td>\n",
       "    </tr>\n",
       "  </tbody>\n",
       "</table>\n",
       "</div>"
      ],
      "text/plain": [
       "           IMSI  Avg RTT DL (ms)  Avg RTT UL (ms)  \\\n",
       "0  2.040471e+14       109.795706        17.662883   \n",
       "1  2.040808e+14       109.795706        17.662883   \n",
       "2  2.082001e+14       287.000000        16.000000   \n",
       "3  2.082001e+14        82.000000         2.000000   \n",
       "4  2.082001e+14        87.000000         5.000000   \n",
       "\n",
       "   TCP DL Retrans. Vol (Bytes)  TCP UL Retrans. Vol (Bytes)  \\\n",
       "0                 2.080991e+07                759658.664811   \n",
       "1                 2.080991e+07                759658.664811   \n",
       "2                 2.697000e+03                759658.664811   \n",
       "3                 9.107000e+03                 18872.000000   \n",
       "4                 2.080991e+07                759658.664811   \n",
       "\n",
       "   Avg Bearer TP DL (kbps)  Avg Bearer TP UL (kbps)  \\\n",
       "0                      2.0                      0.0   \n",
       "1                      1.0                      0.0   \n",
       "2                     87.0                     22.0   \n",
       "3                    627.0                    127.0   \n",
       "4                     38.0                     42.5   \n",
       "\n",
       "                Handset Manufacturer                      Handset Type  \n",
       "0  Quectel Wireless Solutions Co Ltd  Quectel Wireless. Quectel Ec21-E  \n",
       "1  Quectel Wireless Solutions Co Ltd  Quectel Wireless. Quectel Ec25-E  \n",
       "2                     Dn Electronics  Dn Electronics Danew Konnect 350  \n",
       "3                            Samsung  Samsung Galaxy Grand (Gt-I9060X)  \n",
       "4                              Apple           Apple iPhone 6S (A1688)  "
      ]
     },
     "execution_count": 16,
     "metadata": {},
     "output_type": "execute_result"
    }
   ],
   "source": [
    "aggregate_customer = AggregateCustomer(df)\n",
    "aggregate_customer.run_analysis().head()\n",
    "# aggregate_customer.aggregate_per_customer()"
   ]
  },
  {
   "cell_type": "code",
   "execution_count": 17,
   "id": "abfe3095-3a7f-497f-aff3-5f965a77ba9e",
   "metadata": {},
   "outputs": [
    {
     "name": "stdout",
     "output_type": "stream",
     "text": [
      "columns_in_bytes:  ['TCP DL Retrans. Vol (Bytes)', 'TCP UL Retrans. Vol (Bytes)', 'HTTP DL (Bytes)', 'HTTP UL (Bytes)', 'Social Media DL (Bytes)', 'Social Media UL (Bytes)', 'Google DL (Bytes)', 'Google UL (Bytes)', 'Email DL (Bytes)', 'Email UL (Bytes)', 'Youtube DL (Bytes)', 'Youtube UL (Bytes)', 'Netflix DL (Bytes)', 'Netflix UL (Bytes)', 'Gaming DL (Bytes)', 'Gaming UL (Bytes)', 'Other DL (Bytes)', 'Other UL (Bytes)', 'Total UL (Bytes)', 'Total DL (Bytes)']\n",
      "columns_in_kb:  ['Avg Bearer TP DL (kbps)', 'Avg Bearer TP UL (kbps)']\n",
      "Unit conversion complete: Bytes and kbps columns converted to MB.\n",
      "Missing values and outliers treated.\n"
     ]
    }
   ],
   "source": [
    "# Initialize the DataCleaner object with the DataFrame\n",
    "data_cleaner = DataCleaner(df)\n",
    "\n",
    "# Clean the data\n",
    "data_cleaner.clean_data()  # No need to assign, as it modifies df in place\n",
    "\n",
    "#change kbs and bytes to mb\n",
    "data_cleaner.convert_units_to_mb()\n",
    "\n",
    "# Handle missing values and outliers\n",
    "data_cleaner.handle_missing_and_outliers()\n",
    "\n",
    "# Access the cleaned DataFrame\n",
    "cleaned_df = data_cleaner.df"
   ]
  },
  {
   "cell_type": "code",
   "execution_count": 18,
   "id": "38c3ab5e-6ff1-488e-9be4-9df68f45841d",
   "metadata": {},
   "outputs": [
    {
     "name": "stdout",
     "output_type": "stream",
     "text": [
      "\n",
      "TCP Retransmission Stats:\n",
      "Top 10: [91.73592602 91.602627   91.341315   91.064793   91.04984    91.021394\n",
      " 90.98636    90.961985   90.902995   90.788153  ]\n",
      "Bottom 10: [8.60e-05 9.70e-05 1.06e-04 1.08e-04 1.13e-04 1.28e-04 1.29e-04 1.34e-04\n",
      " 1.34e-04 1.43e-04]\n",
      "Most Frequent 10: [21.56957294 20.81120827  0.76098866 20.81124427 21.65412517  0.75969666\n",
      " 20.81123227  0.75975066  0.76231866  0.76097666]\n"
     ]
    }
   ],
   "source": [
    "analyzer = NetworkParameterAnalyzer(cleaned_df)\n",
    "tcp_stats = analyzer.compute_tcp_stats()\n",
    "analyzer.print_stats(\"TCP Retransmission\", tcp_stats)\n"
   ]
  },
  {
   "cell_type": "code",
   "execution_count": null,
   "id": "7b7f42dd-8928-4f60-9070-44b7e12dd0dc",
   "metadata": {},
   "outputs": [],
   "source": []
  }
 ],
 "metadata": {
  "kernelspec": {
   "display_name": "Python (.venv)",
   "language": "python",
   "name": ".venv"
  },
  "language_info": {
   "codemirror_mode": {
    "name": "ipython",
    "version": 3
   },
   "file_extension": ".py",
   "mimetype": "text/x-python",
   "name": "python",
   "nbconvert_exporter": "python",
   "pygments_lexer": "ipython3",
   "version": "3.11.9"
  }
 },
 "nbformat": 4,
 "nbformat_minor": 5
}
