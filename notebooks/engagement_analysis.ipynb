{
 "cells": [
  {
   "cell_type": "code",
   "execution_count": 1,
   "id": "a12217b2-42ff-45e9-a3ae-67a5e2fa7f49",
   "metadata": {},
   "outputs": [
    {
     "data": {
      "text/plain": [
       "True"
      ]
     },
     "execution_count": 1,
     "metadata": {},
     "output_type": "execute_result"
    }
   ],
   "source": [
    "import sys\n",
    "import os\n",
    "from dotenv import load_dotenv\n",
    "sys.path.append(os.path.abspath(os.path.join(os.getcwd(), '../src')))\n",
    "sys.path.append(os.path.abspath(os.path.join(os.getcwd(), '../databases')))\n",
    "from connections.database_connector import DatabaseConnection\n",
    "from data_loader.teleco_data_loader import TelecoDataLoader\n",
    "from cleaning.data_cleaning import DataCleaner\n",
    "from engagement_analysis.user_engagement_analysis import UserEngagementAnalysis\n",
    "from engagement_analysis.telecom_engagement_analysis import TelecomEngagementAnalysis\n",
    "\n",
    "load_dotenv()"
   ]
  },
  {
   "cell_type": "code",
   "execution_count": 2,
   "id": "ac09b756-2f4b-4933-9cb1-465447f6333e",
   "metadata": {},
   "outputs": [
    {
     "name": "stdout",
     "output_type": "stream",
     "text": [
      "Connection to PostgreSQL DB successful\n"
     ]
    }
   ],
   "source": [
    "#  Initialize and connect to the database\n",
    "db_connection = DatabaseConnection(\n",
    "    db_name=os.getenv('DB_NAME'),\n",
    "    user=os.getenv('DB_USER'),\n",
    "    password=os.getenv('DB_PASSWORD'),\n",
    "    host=os.getenv('DB_HOST'),\n",
    "    port=os.getenv('DB_PORT')\n",
    ")\n",
    "db_connection.connect()"
   ]
  },
  {
   "cell_type": "code",
   "execution_count": 3,
   "id": "3d8ed47c-2bd3-45c3-8048-d0389bc779e0",
   "metadata": {},
   "outputs": [
    {
     "name": "stderr",
     "output_type": "stream",
     "text": [
      "/mnt/d/tutorial/10x/tasks/task_2/customer-insights-analytics/src/data_loader/teleco_data_loader.py:10: UserWarning: pandas only supports SQLAlchemy connectable (engine/connection) or database string URI or sqlite3 DBAPI2 connection. Other DBAPI2 objects are not tested. Please consider using SQLAlchemy.\n",
      "  df = pd.read_sql_query(query, connection)\n"
     ]
    },
    {
     "name": "stdout",
     "output_type": "stream",
     "text": [
      "<class 'pandas.core.frame.DataFrame'>\n",
      "Connection closed.\n"
     ]
    }
   ],
   "source": [
    "# Initialize the TelecoDataLoader object with the database connection\n",
    "data_loader = TelecoDataLoader(db_connection=db_connection)\n",
    "\n",
    "# Load the data into a pandas DataFrame\n",
    "df = data_loader.load_data(\"xdr_data\")\n",
    "# df = pd.DataFrame(data)\n",
    "\n",
    "print(type(df))\n",
    "df.head()\n",
    "# print(df.head())\n",
    "\n",
    "# df.info()\n",
    "# Close the database connection when done\n",
    "db_connection.close()"
   ]
  },
  {
   "cell_type": "code",
   "execution_count": 4,
   "id": "7009f76f-762e-446f-86e0-5634d720c9bc",
   "metadata": {},
   "outputs": [
    {
     "name": "stdout",
     "output_type": "stream",
     "text": [
      "columns_in_bytes:  ['TCP DL Retrans. Vol (Bytes)', 'TCP UL Retrans. Vol (Bytes)', 'HTTP DL (Bytes)', 'HTTP UL (Bytes)', 'Social Media DL (Bytes)', 'Social Media UL (Bytes)', 'Google DL (Bytes)', 'Google UL (Bytes)', 'Email DL (Bytes)', 'Email UL (Bytes)', 'Youtube DL (Bytes)', 'Youtube UL (Bytes)', 'Netflix DL (Bytes)', 'Netflix UL (Bytes)', 'Gaming DL (Bytes)', 'Gaming UL (Bytes)', 'Other DL (Bytes)', 'Other UL (Bytes)', 'Total UL (Bytes)', 'Total DL (Bytes)']\n",
      "columns_in_kb:  ['Avg Bearer TP DL (kbps)', 'Avg Bearer TP UL (kbps)']\n",
      "Unit conversion complete: Bytes and kbps columns converted to MB.\n",
      "Missing values and outliers treated.\n"
     ]
    }
   ],
   "source": [
    "# Initialize the DataCleaner object with the DataFrame\n",
    "data_cleaner = DataCleaner(df)\n",
    "\n",
    "# Clean the data\n",
    "data_cleaner.clean_data()  # No need to assign, as it modifies df in place\n",
    "\n",
    "#change kbs and bytes to mb\n",
    "data_cleaner.convert_units_to_mb()\n",
    "\n",
    "# Handle missing values and outliers\n",
    "data_cleaner.handle_missing_and_outliers()\n",
    "\n",
    "# Access the cleaned DataFrame\n",
    "cleaned_df = data_cleaner.df\n"
   ]
  },
  {
   "cell_type": "code",
   "execution_count": 5,
   "id": "3c4908cb-94a4-4d6b-b575-6d90021f8eb1",
   "metadata": {},
   "outputs": [],
   "source": [
    "user_engagement =  UserEngagementAnalysis(df)"
   ]
  },
  {
   "cell_type": "markdown",
   "id": "1d67db59-347b-4ae7-86d6-52513adc5dec",
   "metadata": {},
   "source": [
    "### Aggregated user engagement metrics"
   ]
  },
  {
   "cell_type": "code",
   "execution_count": 6,
   "id": "e3170c93-9e4f-4acf-a39f-8b96843dd851",
   "metadata": {
    "scrolled": true
   },
   "outputs": [],
   "source": [
    "engagement_metrics = user_engagement.aggregate_user_metrics()\n"
   ]
  },
  {
   "cell_type": "markdown",
   "id": "8fb3d93a-5b63-4c08-bcbb-8a95b741b4e1",
   "metadata": {},
   "source": [
    "### Top customers ranked by the specified metric"
   ]
  },
  {
   "cell_type": "code",
   "execution_count": 7,
   "id": "efc54405-faa6-487e-94de-72a2b27c89e0",
   "metadata": {},
   "outputs": [
    {
     "data": {
      "text/html": [
       "<div>\n",
       "<style scoped>\n",
       "    .dataframe tbody tr th:only-of-type {\n",
       "        vertical-align: middle;\n",
       "    }\n",
       "\n",
       "    .dataframe tbody tr th {\n",
       "        vertical-align: top;\n",
       "    }\n",
       "\n",
       "    .dataframe thead th {\n",
       "        text-align: right;\n",
       "    }\n",
       "</style>\n",
       "<table border=\"1\" class=\"dataframe\">\n",
       "  <thead>\n",
       "    <tr style=\"text-align: right;\">\n",
       "      <th></th>\n",
       "      <th>MSISDN/Number</th>\n",
       "      <th>sessions_frequency</th>\n",
       "      <th>total_session_duration</th>\n",
       "      <th>total_download</th>\n",
       "      <th>total_upload</th>\n",
       "      <th>total_traffic</th>\n",
       "    </tr>\n",
       "  </thead>\n",
       "  <tbody>\n",
       "    <tr>\n",
       "      <th>6437</th>\n",
       "      <td>3.361489e+10</td>\n",
       "      <td>17</td>\n",
       "      <td>9966898.0</td>\n",
       "      <td>8.156743e+09</td>\n",
       "      <td>689483001.0</td>\n",
       "      <td>8.846226e+09</td>\n",
       "    </tr>\n",
       "    <tr>\n",
       "      <th>92923</th>\n",
       "      <td>3.376054e+10</td>\n",
       "      <td>15</td>\n",
       "      <td>9279434.0</td>\n",
       "      <td>7.811295e+09</td>\n",
       "      <td>703478581.0</td>\n",
       "      <td>8.514774e+09</td>\n",
       "    </tr>\n",
       "    <tr>\n",
       "      <th>13180</th>\n",
       "      <td>3.362578e+10</td>\n",
       "      <td>17</td>\n",
       "      <td>18553754.0</td>\n",
       "      <td>7.770043e+09</td>\n",
       "      <td>729577380.0</td>\n",
       "      <td>8.499621e+09</td>\n",
       "    </tr>\n",
       "    <tr>\n",
       "      <th>13526</th>\n",
       "      <td>3.362632e+10</td>\n",
       "      <td>18</td>\n",
       "      <td>8791927.0</td>\n",
       "      <td>7.301517e+09</td>\n",
       "      <td>669650721.0</td>\n",
       "      <td>7.971167e+09</td>\n",
       "    </tr>\n",
       "    <tr>\n",
       "      <th>76363</th>\n",
       "      <td>3.367588e+10</td>\n",
       "      <td>15</td>\n",
       "      <td>4865947.0</td>\n",
       "      <td>7.309542e+09</td>\n",
       "      <td>581568792.0</td>\n",
       "      <td>7.891111e+09</td>\n",
       "    </tr>\n",
       "  </tbody>\n",
       "</table>\n",
       "</div>"
      ],
      "text/plain": [
       "       MSISDN/Number  sessions_frequency  total_session_duration  \\\n",
       "6437    3.361489e+10                  17               9966898.0   \n",
       "92923   3.376054e+10                  15               9279434.0   \n",
       "13180   3.362578e+10                  17              18553754.0   \n",
       "13526   3.362632e+10                  18               8791927.0   \n",
       "76363   3.367588e+10                  15               4865947.0   \n",
       "\n",
       "       total_download  total_upload  total_traffic  \n",
       "6437     8.156743e+09   689483001.0   8.846226e+09  \n",
       "92923    7.811295e+09   703478581.0   8.514774e+09  \n",
       "13180    7.770043e+09   729577380.0   8.499621e+09  \n",
       "13526    7.301517e+09   669650721.0   7.971167e+09  \n",
       "76363    7.309542e+09   581568792.0   7.891111e+09  "
      ]
     },
     "execution_count": 7,
     "metadata": {},
     "output_type": "execute_result"
    }
   ],
   "source": [
    "# Call the method to get the top customers by total traffic\n",
    "\n",
    "user_engagement.top_customers_by_engagement(metric='total_traffic', top_n=5)\n"
   ]
  },
  {
   "cell_type": "markdown",
   "id": "f113cc54-ea8f-4017-b874-a3ca14bdc21f",
   "metadata": {},
   "source": [
    "### Normalized metrics"
   ]
  },
  {
   "cell_type": "code",
   "execution_count": 8,
   "id": "30a93da2-4561-49a4-865a-64bd34666db6",
   "metadata": {},
   "outputs": [
    {
     "data": {
      "text/html": [
       "<div>\n",
       "<style scoped>\n",
       "    .dataframe tbody tr th:only-of-type {\n",
       "        vertical-align: middle;\n",
       "    }\n",
       "\n",
       "    .dataframe tbody tr th {\n",
       "        vertical-align: top;\n",
       "    }\n",
       "\n",
       "    .dataframe thead th {\n",
       "        text-align: right;\n",
       "    }\n",
       "</style>\n",
       "<table border=\"1\" class=\"dataframe\">\n",
       "  <thead>\n",
       "    <tr style=\"text-align: right;\">\n",
       "      <th></th>\n",
       "      <th>MSISDN/Number</th>\n",
       "      <th>sessions_frequency</th>\n",
       "      <th>total_session_duration</th>\n",
       "      <th>total_download</th>\n",
       "      <th>total_upload</th>\n",
       "      <th>total_traffic</th>\n",
       "    </tr>\n",
       "  </thead>\n",
       "  <tbody>\n",
       "    <tr>\n",
       "      <th>0</th>\n",
       "      <td>3.360100e+10</td>\n",
       "      <td>-0.481288</td>\n",
       "      <td>-0.158013</td>\n",
       "      <td>8.426375e+08</td>\n",
       "      <td>36053108.0</td>\n",
       "      <td>0.382296</td>\n",
       "    </tr>\n",
       "    <tr>\n",
       "      <th>1</th>\n",
       "      <td>3.360100e+10</td>\n",
       "      <td>-0.481288</td>\n",
       "      <td>0.188147</td>\n",
       "      <td>1.207552e+08</td>\n",
       "      <td>36104459.0</td>\n",
       "      <td>-1.087661</td>\n",
       "    </tr>\n",
       "    <tr>\n",
       "      <th>2</th>\n",
       "      <td>3.360100e+10</td>\n",
       "      <td>-0.481288</td>\n",
       "      <td>-0.060089</td>\n",
       "      <td>5.566597e+08</td>\n",
       "      <td>39306820.0</td>\n",
       "      <td>-0.193452</td>\n",
       "    </tr>\n",
       "    <tr>\n",
       "      <th>3</th>\n",
       "      <td>3.360101e+10</td>\n",
       "      <td>-0.481288</td>\n",
       "      <td>-0.516687</td>\n",
       "      <td>4.019932e+08</td>\n",
       "      <td>20327526.0</td>\n",
       "      <td>-0.547069</td>\n",
       "    </tr>\n",
       "    <tr>\n",
       "      <th>4</th>\n",
       "      <td>3.360101e+10</td>\n",
       "      <td>0.753490</td>\n",
       "      <td>-0.585233</td>\n",
       "      <td>1.363130e+09</td>\n",
       "      <td>94280527.0</td>\n",
       "      <td>1.560818</td>\n",
       "    </tr>\n",
       "    <tr>\n",
       "      <th>...</th>\n",
       "      <td>...</td>\n",
       "      <td>...</td>\n",
       "      <td>...</td>\n",
       "      <td>...</td>\n",
       "      <td>...</td>\n",
       "      <td>...</td>\n",
       "    </tr>\n",
       "    <tr>\n",
       "      <th>106851</th>\n",
       "      <td>3.379000e+10</td>\n",
       "      <td>-0.481288</td>\n",
       "      <td>-0.737058</td>\n",
       "      <td>6.879252e+08</td>\n",
       "      <td>26716429.0</td>\n",
       "      <td>0.048222</td>\n",
       "    </tr>\n",
       "    <tr>\n",
       "      <th>106852</th>\n",
       "      <td>3.379000e+10</td>\n",
       "      <td>-0.481288</td>\n",
       "      <td>-0.027791</td>\n",
       "      <td>4.445751e+08</td>\n",
       "      <td>35732243.0</td>\n",
       "      <td>-0.428983</td>\n",
       "    </tr>\n",
       "    <tr>\n",
       "      <th>106853</th>\n",
       "      <td>3.197021e+12</td>\n",
       "      <td>-0.481288</td>\n",
       "      <td>3.923713</td>\n",
       "      <td>1.948281e+08</td>\n",
       "      <td>37295915.0</td>\n",
       "      <td>-0.934391</td>\n",
       "    </tr>\n",
       "    <tr>\n",
       "      <th>106854</th>\n",
       "      <td>3.370000e+14</td>\n",
       "      <td>-0.481288</td>\n",
       "      <td>0.573426</td>\n",
       "      <td>5.396350e+08</td>\n",
       "      <td>56652839.0</td>\n",
       "      <td>-0.192797</td>\n",
       "    </tr>\n",
       "    <tr>\n",
       "      <th>106855</th>\n",
       "      <td>8.823971e+14</td>\n",
       "      <td>-0.481288</td>\n",
       "      <td>3.883248</td>\n",
       "      <td>7.869760e+07</td>\n",
       "      <td>60456049.0</td>\n",
       "      <td>-1.123718</td>\n",
       "    </tr>\n",
       "  </tbody>\n",
       "</table>\n",
       "<p>106856 rows × 6 columns</p>\n",
       "</div>"
      ],
      "text/plain": [
       "        MSISDN/Number  sessions_frequency  total_session_duration  \\\n",
       "0        3.360100e+10           -0.481288               -0.158013   \n",
       "1        3.360100e+10           -0.481288                0.188147   \n",
       "2        3.360100e+10           -0.481288               -0.060089   \n",
       "3        3.360101e+10           -0.481288               -0.516687   \n",
       "4        3.360101e+10            0.753490               -0.585233   \n",
       "...               ...                 ...                     ...   \n",
       "106851   3.379000e+10           -0.481288               -0.737058   \n",
       "106852   3.379000e+10           -0.481288               -0.027791   \n",
       "106853   3.197021e+12           -0.481288                3.923713   \n",
       "106854   3.370000e+14           -0.481288                0.573426   \n",
       "106855   8.823971e+14           -0.481288                3.883248   \n",
       "\n",
       "        total_download  total_upload  total_traffic  \n",
       "0         8.426375e+08    36053108.0       0.382296  \n",
       "1         1.207552e+08    36104459.0      -1.087661  \n",
       "2         5.566597e+08    39306820.0      -0.193452  \n",
       "3         4.019932e+08    20327526.0      -0.547069  \n",
       "4         1.363130e+09    94280527.0       1.560818  \n",
       "...                ...           ...            ...  \n",
       "106851    6.879252e+08    26716429.0       0.048222  \n",
       "106852    4.445751e+08    35732243.0      -0.428983  \n",
       "106853    1.948281e+08    37295915.0      -0.934391  \n",
       "106854    5.396350e+08    56652839.0      -0.192797  \n",
       "106855    7.869760e+07    60456049.0      -1.123718  \n",
       "\n",
       "[106856 rows x 6 columns]"
      ]
     },
     "execution_count": 8,
     "metadata": {},
     "output_type": "execute_result"
    }
   ],
   "source": [
    "user_engagement.normalize_metrics(engagement_metrics)"
   ]
  },
  {
   "cell_type": "code",
   "execution_count": null,
   "id": "f7d403b7-f9d6-4576-8f11-0954d0020d06",
   "metadata": {},
   "outputs": [],
   "source": []
  },
  {
   "cell_type": "code",
   "execution_count": 9,
   "id": "e7aba09d-3031-4e9c-b89d-41b1aa792deb",
   "metadata": {},
   "outputs": [
    {
     "data": {
      "image/png": "[encoded data removed]",
      "text/plain": [
       "<Figure size 1000x600 with 1 Axes>"
      ]
     },
     "metadata": {},
     "output_type": "display_data"
    },
    {
     "data": {
      "image/png": "[encoded data removed]",
      "text/plain": [
       "<Figure size 1000x600 with 1 Axes>"
      ]
     },
     "metadata": {},
     "output_type": "display_data"
    }
   ],
   "source": [
    "telegram_engagement_analysis = TelecomEngagementAnalysis(cleaned_df)\n",
    "\n",
    "# Perform analysis\n",
    "agg_data = telegram_engagement_analysis.aggregate_metrics_by_customer()\n",
    "top_customers = telegram_engagement_analysis.top_customers_by_metric('Total DL (Bytes)')\n",
    "normalized_data = telegram_engagement_analysis.normalize_metrics()\n",
    "clustered_data = telegram_engagement_analysis.k_means_clustering()\n",
    "cluster_stats = telegram_engagement_analysis.compute_cluster_statistics()\n",
    "telegram_engagement_analysis.elbow_method()\n",
    "top_youtube_users = telegram_engagement_analysis.top_users_by_application('Youtube DL (Bytes)')\n",
    "telegram_engagement_analysis.plot_top_applications()\n"
   ]
  }
 ],
 "metadata": {
  "kernelspec": {
   "display_name": "Python (.venv)",
   "language": "python",
   "name": ".venv"
  },
  "language_info": {
   "codemirror_mode": {
    "name": "ipython",
    "version": 3
   },
   "file_extension": ".py",
   "mimetype": "text/x-python",
   "name": "python",
   "nbconvert_exporter": "python",
   "pygments_lexer": "ipython3",
   "version": "3.11.9"
  }
 },
 "nbformat": 4,
 "nbformat_minor": 5
}
